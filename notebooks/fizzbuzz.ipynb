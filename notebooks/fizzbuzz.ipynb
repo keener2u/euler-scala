{
 "cells": [
  {
   "attachments": {},
   "cell_type": "markdown",
   "metadata": {},
   "source": [
    "# WIP"
   ]
  },
  {
   "cell_type": "code",
   "execution_count": null,
   "metadata": {},
   "outputs": [],
   "source": [
    "\n",
    "def isBuzz(n: Int):Boolean = \n",
    "   if (n%2==0) true else false\n",
    "def isFizz(n: Int):Boolean = \n",
    "   if (n%5==0) true else false\n",
    "def isFizzBuzz(n: Int):Boolean = \n",
    "   if (n%2==0&&n%5==0) true else false\n",
    "\n",
    "for (i <- 1 to 100)  {\n",
    " if (isFizzBuzz(i)){\n",
    "    println(\"both\")\n",
    " }else if (isFizz(i)){\n",
    "    println(\"odd\")\n",
    " }else if (isBuzz(i)){\n",
    "   println(\"even\")\n",
    " }\n",
    "\n",
    "}"
   ]
  },
  {
   "cell_type": "markdown",
   "metadata": {},
   "source": []
  },
  {
   "cell_type": "code",
   "execution_count": null,
   "metadata": {},
   "outputs": [],
   "source": []
  },
  {
   "cell_type": "code",
   "execution_count": null,
   "metadata": {},
   "outputs": [],
   "source": []
  },
  {
   "cell_type": "code",
   "execution_count": null,
   "metadata": {},
   "outputs": [],
   "source": []
  }
 ],
 "metadata": {
  "kernelspec": {
   "display_name": "Scala",
   "language": "scala",
   "name": "scala"
  },
  "language_info": {
   "codemirror_mode": "text/x-scala",
   "file_extension": ".sc",
   "mimetype": "text/x-scala",
   "name": "scala",
   "nbconvert_exporter": "script",
   "version": "2.12.17"
  },
  "orig_nbformat": 4,
  "vscode": {
   "interpreter": {
    "hash": "3ad933181bd8a04b432d3370b9dc3b0662ad032c4dfaa4e4f1596c548f763858"
   }
  }
 },
 "nbformat": 4,
 "nbformat_minor": 2
}
