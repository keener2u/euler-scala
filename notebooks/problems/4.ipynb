{
 "cells": [
  {
   "cell_type": "markdown",
   "id": "24917e50-ce6d-4fe5-81ab-4fd8c29eb3ad",
   "metadata": {},
   "source": [
    "A palindromic number reads the same both ways. The largest palindrome made from the product of two 2-digit numbers is 9009 = 91 × 99.\n",
    "\n",
    "Find the largest palindrome made from the product of two 3-digit numbers.\n",
    "\n",
    "All even numbered palindromes are divisible by 11"
   ]
  },
  {
   "cell_type": "code",
   "execution_count": null,
   "id": "7b3383fd-724b-4175-a2d0-1dfd52e78782",
   "metadata": {},
   "outputs": [],
   "source": [
    "val peak = 999*999\n",
    "val floor = 100*100\n",
    "val possiblePalindromes = Range(floor,peak)"
   ]
  },
  {
   "cell_type": "code",
   "execution_count": null,
   "id": "266c957d-83dc-4967-b38e-ea6dcd5a4f04",
   "metadata": {},
   "outputs": [],
   "source": []
  },
  {
   "cell_type": "code",
   "execution_count": null,
   "id": "c0eb96ec-f827-42a5-bdfc-ad6d660a7d1f",
   "metadata": {},
   "outputs": [],
   "source": [
    "def factor(factorPal :Int, div :Int, div2 :Int):Int = {\n",
    "    val factors= div*div2\n",
    "    if (factors==factorPal)div2\n",
    "    else if(div2==0) false\n",
    "    else factor(factorPal,div,div2-1)\n",
    "}"
   ]
  },
  {
   "cell_type": "code",
   "execution_count": null,
   "id": "1046e4ea-5c0d-4fd4-ae27-edd7d128465b",
   "metadata": {},
   "outputs": [],
   "source": [
    "val divisors = Range(500,999).reverse\n",
    "val onlyMod11 = possiblePalindromes.filter(_ % 11==0)\n",
    "val possiblePals = onlyMod11.filter(x => (x.toString.toList.reverse==x.toString.toList))"
   ]
  },
  {
   "cell_type": "code",
   "execution_count": null,
   "id": "001d8e43-12d9-4d2b-a2e4-0fa173bab6bf",
   "metadata": {},
   "outputs": [],
   "source": [
    "for(pal <- possiblePals.reverse)\n",
    "    factor(pal , 999, 999)"
   ]
  },
  {
   "cell_type": "code",
   "execution_count": null,
   "id": "e037e015-adfe-4b61-8b94-e22b97064808",
   "metadata": {},
   "outputs": [],
   "source": []
  }
 ],
 "metadata": {
  "kernelspec": {
   "display_name": "Scala",
   "language": "scala",
   "name": "scala"
  },
  "language_info": {
   "codemirror_mode": "text/x-scala",
   "file_extension": ".sc",
   "mimetype": "text/x-scala",
   "name": "scala",
   "nbconvert_exporter": "script",
   "version": "2.12.17"
  }
 },
 "nbformat": 4,
 "nbformat_minor": 5
}
