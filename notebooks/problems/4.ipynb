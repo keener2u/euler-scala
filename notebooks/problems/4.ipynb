{
 "cells": [
  {
   "cell_type": "markdown",
   "id": "24917e50-ce6d-4fe5-81ab-4fd8c29eb3ad",
   "metadata": {},
   "source": [
    "A palindromic number reads the same both ways. The largest palindrome made from the product of two 2-digit numbers is 9009 = 91 × 99.\n",
    "\n",
    "Find the largest palindrome made from the product of two 3-digit numbers.\n",
    "\n",
    "All even numbered palindromes are divisible by 11"
   ]
  },
  {
   "cell_type": "code",
   "execution_count": 3,
   "id": "7b3383fd-724b-4175-a2d0-1dfd52e78782",
   "metadata": {},
   "outputs": [
    {
     "data": {
      "text/plain": [
       "\u001b[36mpeak\u001b[39m: \u001b[32mInt\u001b[39m = \u001b[32m998001\u001b[39m\n",
       "\u001b[36mfloor\u001b[39m: \u001b[32mInt\u001b[39m = \u001b[32m10000\u001b[39m\n",
       "\u001b[36mpossiblePalindromes\u001b[39m: \u001b[32mRange\u001b[39m = \u001b[33mRange\u001b[39m(\n",
       "  \u001b[32m10000\u001b[39m,\n",
       "  \u001b[32m10001\u001b[39m,\n",
       "  \u001b[32m10002\u001b[39m,\n",
       "  \u001b[32m10003\u001b[39m,\n",
       "  \u001b[32m10004\u001b[39m,\n",
       "  \u001b[32m10005\u001b[39m,\n",
       "  \u001b[32m10006\u001b[39m,\n",
       "  \u001b[32m10007\u001b[39m,\n",
       "  \u001b[32m10008\u001b[39m,\n",
       "  \u001b[32m10009\u001b[39m,\n",
       "  \u001b[32m10010\u001b[39m,\n",
       "  \u001b[32m10011\u001b[39m,\n",
       "  \u001b[32m10012\u001b[39m,\n",
       "  \u001b[32m10013\u001b[39m,\n",
       "  \u001b[32m10014\u001b[39m,\n",
       "  \u001b[32m10015\u001b[39m,\n",
       "  \u001b[32m10016\u001b[39m,\n",
       "  \u001b[32m10017\u001b[39m,\n",
       "  \u001b[32m10018\u001b[39m,\n",
       "  \u001b[32m10019\u001b[39m,\n",
       "  \u001b[32m10020\u001b[39m,\n",
       "  \u001b[32m10021\u001b[39m,\n",
       "  \u001b[32m10022\u001b[39m,\n",
       "  \u001b[32m10023\u001b[39m,\n",
       "  \u001b[32m10024\u001b[39m,\n",
       "  \u001b[32m10025\u001b[39m,\n",
       "  \u001b[32m10026\u001b[39m,\n",
       "  \u001b[32m10027\u001b[39m,\n",
       "  \u001b[32m10028\u001b[39m,\n",
       "  \u001b[32m10029\u001b[39m,\n",
       "  \u001b[32m10030\u001b[39m,\n",
       "  \u001b[32m10031\u001b[39m,\n",
       "  \u001b[32m10032\u001b[39m,\n",
       "  \u001b[32m10033\u001b[39m,\n",
       "  \u001b[32m10034\u001b[39m,\n",
       "  \u001b[32m10035\u001b[39m,\n",
       "  \u001b[32m10036\u001b[39m,\n",
       "  \u001b[32m10037\u001b[39m,\n",
       "..."
      ]
     },
     "execution_count": 3,
     "metadata": {},
     "output_type": "execute_result"
    }
   ],
   "source": [
    "val peak = 999*999\n",
    "val floor = 100*100\n",
    "val possiblePalindromes = Range(floor,peak)\n"
   ]
  },
  {
   "cell_type": "code",
   "execution_count": 4,
   "id": "27a3b4ca-2874-4be2-bc06-670176b9033e",
   "metadata": {},
   "outputs": [
    {
     "data": {
      "text/plain": [
       "\u001b[36monlyMod11\u001b[39m: \u001b[32mcollection\u001b[39m.\u001b[32mimmutable\u001b[39m.\u001b[32mIndexedSeq\u001b[39m[\u001b[32mInt\u001b[39m] = \u001b[33mVector\u001b[39m(\n",
       "  \u001b[32m10010\u001b[39m,\n",
       "  \u001b[32m10021\u001b[39m,\n",
       "  \u001b[32m10032\u001b[39m,\n",
       "  \u001b[32m10043\u001b[39m,\n",
       "  \u001b[32m10054\u001b[39m,\n",
       "  \u001b[32m10065\u001b[39m,\n",
       "  \u001b[32m10076\u001b[39m,\n",
       "  \u001b[32m10087\u001b[39m,\n",
       "  \u001b[32m10098\u001b[39m,\n",
       "  \u001b[32m10109\u001b[39m,\n",
       "  \u001b[32m10120\u001b[39m,\n",
       "  \u001b[32m10131\u001b[39m,\n",
       "  \u001b[32m10142\u001b[39m,\n",
       "  \u001b[32m10153\u001b[39m,\n",
       "  \u001b[32m10164\u001b[39m,\n",
       "  \u001b[32m10175\u001b[39m,\n",
       "  \u001b[32m10186\u001b[39m,\n",
       "  \u001b[32m10197\u001b[39m,\n",
       "  \u001b[32m10208\u001b[39m,\n",
       "  \u001b[32m10219\u001b[39m,\n",
       "  \u001b[32m10230\u001b[39m,\n",
       "  \u001b[32m10241\u001b[39m,\n",
       "  \u001b[32m10252\u001b[39m,\n",
       "  \u001b[32m10263\u001b[39m,\n",
       "  \u001b[32m10274\u001b[39m,\n",
       "  \u001b[32m10285\u001b[39m,\n",
       "  \u001b[32m10296\u001b[39m,\n",
       "  \u001b[32m10307\u001b[39m,\n",
       "  \u001b[32m10318\u001b[39m,\n",
       "  \u001b[32m10329\u001b[39m,\n",
       "  \u001b[32m10340\u001b[39m,\n",
       "  \u001b[32m10351\u001b[39m,\n",
       "  \u001b[32m10362\u001b[39m,\n",
       "  \u001b[32m10373\u001b[39m,\n",
       "  \u001b[32m10384\u001b[39m,\n",
       "  \u001b[32m10395\u001b[39m,\n",
       "  \u001b[32m10406\u001b[39m,\n",
       "  \u001b[32m10417\u001b[39m,\n",
       "..."
      ]
     },
     "execution_count": 4,
     "metadata": {},
     "output_type": "execute_result"
    }
   ],
   "source": [
    "val onlyMod11 = possiblePalindromes.filter(_ % 11==0)"
   ]
  },
  {
   "cell_type": "code",
   "execution_count": null,
   "id": "4b590dd0-40d9-4d09-afb8-bc8de55281fb",
   "metadata": {},
   "outputs": [],
   "source": [
    "for(possiblePal <- onlyMod11.reverse){\n",
    "    if(possiblePal.toString.toList.reverse==possiblePal.toString.toList)\n",
    "        println((possiblePal / 999L)+\" \"+possiblePal)\n",
    "}"
   ]
  },
  {
   "cell_type": "code",
   "execution_count": null,
   "id": "266c957d-83dc-4967-b38e-ea6dcd5a4f04",
   "metadata": {},
   "outputs": [],
   "source": []
  }
 ],
 "metadata": {
  "kernelspec": {
   "display_name": "Scala",
   "language": "scala",
   "name": "scala"
  },
  "language_info": {
   "codemirror_mode": "text/x-scala",
   "file_extension": ".sc",
   "mimetype": "text/x-scala",
   "name": "scala",
   "nbconvert_exporter": "script",
   "version": "2.12.17"
  }
 },
 "nbformat": 4,
 "nbformat_minor": 5
}
