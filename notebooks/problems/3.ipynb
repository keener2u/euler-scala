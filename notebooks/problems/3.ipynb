{
 "cells": [
  {
   "cell_type": "markdown",
   "id": "16b01a44-48f4-4310-b422-55a9379babcb",
   "metadata": {},
   "source": [
    "Problem:\n",
    "The prime factors of 13195 are 5, 7, 13 and 29.\n",
    "\n",
    "What is the largest prime factor of the number 600851475143 ?"
   ]
  },
  {
   "cell_type": "markdown",
   "id": "f933429f-c387-461d-8fe9-1cd9c9f28290",
   "metadata": {},
   "source": [
    "Strategy: \n",
    "\n",
    "use Sieve of Eratosthenes to generate the first 1678 primes bringing search space down from 775139 to 112488\n",
    "use filter() method to generate using the first 17 known primes\n",
    "\n",
    "Use the primes table as the input to fermats equation for factorization.\n",
    "reucurse through the primes from lowest to highest finding next factor\n",
    "divide factor/prime for nextfactor and use filter to drop all used integers in the table\n",
    "use the updated prime table and nextfactor as input back into the recursive function\n",
    "return once nextfactor is less than next prime in table Sieve of Eratosthenes\n",
    "\n"
   ]
  },
  {
   "cell_type": "code",
   "execution_count": 1,
   "id": "472f0ea5-1ee3-4fbb-8495-48a8cfbce818",
   "metadata": {},
   "outputs": [
    {
     "data": {
      "text/plain": [
       "\u001b[32mimport \u001b[39m\u001b[36mscala.math._\n",
       "\u001b[39m\n",
       "\u001b[36mend\u001b[39m: \u001b[32mInt\u001b[39m = \u001b[32m775146\u001b[39m\n",
       "\u001b[36ma\u001b[39m: \u001b[32mList\u001b[39m[\u001b[32mInt\u001b[39m] = \u001b[33mList\u001b[39m(\n",
       "  \u001b[32m1\u001b[39m,\n",
       "  \u001b[32m2\u001b[39m,\n",
       "  \u001b[32m3\u001b[39m,\n",
       "  \u001b[32m4\u001b[39m,\n",
       "  \u001b[32m5\u001b[39m,\n",
       "  \u001b[32m6\u001b[39m,\n",
       "  \u001b[32m7\u001b[39m,\n",
       "  \u001b[32m8\u001b[39m,\n",
       "  \u001b[32m9\u001b[39m,\n",
       "  \u001b[32m10\u001b[39m,\n",
       "  \u001b[32m11\u001b[39m,\n",
       "  \u001b[32m12\u001b[39m,\n",
       "  \u001b[32m13\u001b[39m,\n",
       "  \u001b[32m14\u001b[39m,\n",
       "  \u001b[32m15\u001b[39m,\n",
       "  \u001b[32m16\u001b[39m,\n",
       "  \u001b[32m17\u001b[39m,\n",
       "  \u001b[32m18\u001b[39m,\n",
       "  \u001b[32m19\u001b[39m,\n",
       "  \u001b[32m20\u001b[39m,\n",
       "  \u001b[32m21\u001b[39m,\n",
       "  \u001b[32m22\u001b[39m,\n",
       "  \u001b[32m23\u001b[39m,\n",
       "  \u001b[32m24\u001b[39m,\n",
       "  \u001b[32m25\u001b[39m,\n",
       "  \u001b[32m26\u001b[39m,\n",
       "  \u001b[32m27\u001b[39m,\n",
       "  \u001b[32m28\u001b[39m,\n",
       "  \u001b[32m29\u001b[39m,\n",
       "  \u001b[32m30\u001b[39m,\n",
       "  \u001b[32m31\u001b[39m,\n",
       "  \u001b[32m32\u001b[39m,\n",
       "  \u001b[32m33\u001b[39m,\n",
       "  \u001b[32m34\u001b[39m,\n",
       "  \u001b[32m35\u001b[39m,\n",
       "  \u001b[32m36\u001b[39m,\n",
       "  \u001b[32m37\u001b[39m,\n",
       "  \u001b[32m38\u001b[39m,\n",
       "..."
      ]
     },
     "execution_count": 1,
     "metadata": {},
     "output_type": "execute_result"
    }
   ],
   "source": [
    "import scala.math._\n",
    "val end = sqrt(600851475143L).toInt\n",
    "val a = (1 to end).toList"
   ]
  },
  {
   "cell_type": "code",
   "execution_count": 2,
   "id": "f581995f-2491-4b14-9ce1-fcdc87edf071",
   "metadata": {},
   "outputs": [
    {
     "data": {
      "text/plain": [
       "\u001b[36msievePrimes\u001b[39m: \u001b[32mList\u001b[39m[\u001b[32mInt\u001b[39m] = \u001b[33mList\u001b[39m(\n",
       "  \u001b[32m1\u001b[39m,\n",
       "  \u001b[32m43\u001b[39m,\n",
       "  \u001b[32m47\u001b[39m,\n",
       "  \u001b[32m53\u001b[39m,\n",
       "  \u001b[32m59\u001b[39m,\n",
       "  \u001b[32m61\u001b[39m,\n",
       "  \u001b[32m67\u001b[39m,\n",
       "  \u001b[32m71\u001b[39m,\n",
       "  \u001b[32m73\u001b[39m,\n",
       "  \u001b[32m79\u001b[39m,\n",
       "  \u001b[32m83\u001b[39m,\n",
       "  \u001b[32m89\u001b[39m,\n",
       "  \u001b[32m97\u001b[39m,\n",
       "  \u001b[32m101\u001b[39m,\n",
       "  \u001b[32m103\u001b[39m,\n",
       "  \u001b[32m107\u001b[39m,\n",
       "  \u001b[32m109\u001b[39m,\n",
       "  \u001b[32m113\u001b[39m,\n",
       "  \u001b[32m127\u001b[39m,\n",
       "  \u001b[32m131\u001b[39m,\n",
       "  \u001b[32m137\u001b[39m,\n",
       "  \u001b[32m139\u001b[39m,\n",
       "  \u001b[32m149\u001b[39m,\n",
       "  \u001b[32m151\u001b[39m,\n",
       "  \u001b[32m157\u001b[39m,\n",
       "  \u001b[32m163\u001b[39m,\n",
       "  \u001b[32m167\u001b[39m,\n",
       "  \u001b[32m173\u001b[39m,\n",
       "  \u001b[32m179\u001b[39m,\n",
       "  \u001b[32m181\u001b[39m,\n",
       "  \u001b[32m191\u001b[39m,\n",
       "  \u001b[32m193\u001b[39m,\n",
       "  \u001b[32m197\u001b[39m,\n",
       "  \u001b[32m199\u001b[39m,\n",
       "  \u001b[32m211\u001b[39m,\n",
       "  \u001b[32m223\u001b[39m,\n",
       "  \u001b[32m227\u001b[39m,\n",
       "  \u001b[32m229\u001b[39m,\n",
       "...\n",
       "\u001b[36mprimesTo1681\u001b[39m: \u001b[32mList\u001b[39m[\u001b[32mInt\u001b[39m] = \u001b[33mList\u001b[39m(\n",
       "  \u001b[32m2\u001b[39m,\n",
       "  \u001b[32m3\u001b[39m,\n",
       "  \u001b[32m5\u001b[39m,\n",
       "  \u001b[32m7\u001b[39m,\n",
       "  \u001b[32m11\u001b[39m,\n",
       "  \u001b[32m13\u001b[39m,\n",
       "  \u001b[32m17\u001b[39m,\n",
       "  \u001b[32m19\u001b[39m,\n",
       "  \u001b[32m23\u001b[39m,\n",
       "  \u001b[32m29\u001b[39m,\n",
       "  \u001b[32m31\u001b[39m,\n",
       "  \u001b[32m37\u001b[39m,\n",
       "  \u001b[32m41\u001b[39m,\n",
       "  \u001b[32m43\u001b[39m,\n",
       "  \u001b[32m47\u001b[39m,\n",
       "  \u001b[32m53\u001b[39m,\n",
       "  \u001b[32m59\u001b[39m,\n",
       "  \u001b[32m61\u001b[39m,\n",
       "  \u001b[32m67\u001b[39m,\n",
       "  \u001b[32m71\u001b[39m,\n",
       "  \u001b[32m73\u001b[39m,\n",
       "  \u001b[32m79\u001b[39m,\n",
       "  \u001b[32m83\u001b[39m,\n",
       "  \u001b[32m89\u001b[39m,\n",
       "  \u001b[32m97\u001b[39m,\n",
       "  \u001b[32m101\u001b[39m,\n",
       "  \u001b[32m103\u001b[39m,\n",
       "  \u001b[32m107\u001b[39m,\n",
       "  \u001b[32m109\u001b[39m,\n",
       "  \u001b[32m113\u001b[39m,\n",
       "  \u001b[32m127\u001b[39m,\n",
       "  \u001b[32m131\u001b[39m,\n",
       "  \u001b[32m137\u001b[39m,\n",
       "  \u001b[32m139\u001b[39m,\n",
       "  \u001b[32m149\u001b[39m,\n",
       "  \u001b[32m151\u001b[39m,\n",
       "  \u001b[32m157\u001b[39m,\n",
       "  \u001b[32m163\u001b[39m,\n",
       "..."
      ]
     },
     "execution_count": 2,
     "metadata": {},
     "output_type": "execute_result"
    }
   ],
   "source": [
    "val sievePrimes = a.filter(a => a%2 != 0).filter(a => a%3 != 0).filter(a => a%5 != 0).filter(a => a%7 != 0).filter(a => a%11 != 0).filter(a => a%13 != 0).filter(a => a%17 != 0).filter(a => a%19 != 0).filter(a => a%23 != 0).filter(a => a%29 != 0).filter(a => a%31 != 0).filter(a => a%37 != 0).filter(a => a%41 != 0)\n",
    "val primesTo1681 = List(2,3,5,7,11,13,17,19,23,29,31,37,41):::sievePrimes.tail"
   ]
  },
  {
   "cell_type": "code",
   "execution_count": 3,
   "id": "7bc85de0-0f93-48d3-8152-3fd8b4f51cb8",
   "metadata": {},
   "outputs": [
    {
     "name": "stdout",
     "output_type": "stream",
     "text": [
      "112488\n",
      "457\n",
      "775139\n"
     ]
    }
   ],
   "source": [
    "println(primesTo1681.length)\n",
    "println(primesTo1681(100-13))\n",
    "println(primesTo1681.max)"
   ]
  },
  {
   "cell_type": "code",
   "execution_count": 6,
   "id": "615d0aa5-30f3-4738-8762-2b7e91c7ad24",
   "metadata": {},
   "outputs": [
    {
     "name": "stdout",
     "output_type": "stream",
     "text": [
      "(6857,6857)\n"
     ]
    },
    {
     "data": {
      "text/plain": [
       "defined \u001b[32mfunction\u001b[39m \u001b[36mnextDivisor\u001b[39m\n",
       "\u001b[36mres5_1\u001b[39m: \u001b[32mDouble\u001b[39m = \u001b[32m6857.0\u001b[39m"
      ]
     },
     "execution_count": 6,
     "metadata": {},
     "output_type": "execute_result"
    }
   ],
   "source": [
    "\n",
    "def nextDivisor(primes :List[Int], nextFactor :Double) :Double = {\n",
    "       \n",
    "            for(prime <- primes){\n",
    "                if (nextFactor % prime == 0){\n",
    "                     if(nextFactor.toInt<=prime){\n",
    "                        println(prime,nextFactor.toInt)\n",
    "                        return nextFactor\n",
    "                     }\n",
    "                    return nextDivisor(primes.filter(_ > prime), (nextFactor/prime).toDouble) \n",
    "                }\n",
    "            }\n",
    "            return nextFactor\n",
    "       \n",
    "}\n",
    "nextDivisor(primesTo1681,600851475143L)"
   ]
  },
  {
   "cell_type": "code",
   "execution_count": null,
   "id": "9dcddb67-d2c6-4492-9388-0b714d3c38f8",
   "metadata": {},
   "outputs": [],
   "source": []
  }
 ],
 "metadata": {
  "kernelspec": {
   "display_name": "Scala",
   "language": "scala",
   "name": "scala"
  },
  "language_info": {
   "codemirror_mode": "text/x-scala",
   "file_extension": ".sc",
   "mimetype": "text/x-scala",
   "name": "scala",
   "nbconvert_exporter": "script",
   "version": "2.12.17"
  }
 },
 "nbformat": 4,
 "nbformat_minor": 5
}
