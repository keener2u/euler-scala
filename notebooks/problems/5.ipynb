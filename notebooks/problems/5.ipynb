{
 "cells": [
  {
   "cell_type": "code",
   "execution_count": 45,
   "metadata": {},
   "outputs": [
    {
     "name": "stdout",
     "output_type": "stream",
     "text": [
      "test"
     ]
    }
   ],
   "source": [
    "print(\"test\")"
   ]
  },
  {
   "attachments": {},
   "cell_type": "markdown",
   "metadata": {},
   "source": [
    "2520 is the smallest number that can be divided by each of the numbers from 1 to 10 without any remainder.\n",
    "\n",
    "What is the smallest positive number that is evenly divisible by all of the numbers from 1 to 20?\n",
    "\n",
    "Strategy, break out the primes of each number from 1/20 count the primes and take the ones with the highest coefficients"
   ]
  },
  {
   "cell_type": "code",
   "execution_count": 46,
   "metadata": {},
   "outputs": [
    {
     "data": {
      "text/plain": [
       "defined \u001b[32mfunction\u001b[39m \u001b[36mfactorPrimes\u001b[39m\n",
       "\u001b[36mprimes\u001b[39m: \u001b[32mList\u001b[39m[\u001b[32mInt\u001b[39m] = \u001b[33mList\u001b[39m(\u001b[32m2\u001b[39m, \u001b[32m3\u001b[39m, \u001b[32m5\u001b[39m, \u001b[32m7\u001b[39m, \u001b[32m11\u001b[39m, \u001b[32m13\u001b[39m, \u001b[32m17\u001b[39m, \u001b[32m19\u001b[39m)\n",
       "\u001b[36mxs\u001b[39m: \u001b[32mcollection\u001b[39m.\u001b[32mimmutable\u001b[39m.\u001b[32mIndexedSeq\u001b[39m[\u001b[32mList\u001b[39m[\u001b[32mInt\u001b[39m]] = \u001b[33mVector\u001b[39m(\n",
       "  \u001b[33mList\u001b[39m(\u001b[32m1\u001b[39m),\n",
       "  \u001b[33mList\u001b[39m(\u001b[32m2\u001b[39m, \u001b[32m1\u001b[39m),\n",
       "  \u001b[33mList\u001b[39m(\u001b[32m3\u001b[39m, \u001b[32m1\u001b[39m),\n",
       "  \u001b[33mList\u001b[39m(\u001b[32m2\u001b[39m, \u001b[32m2\u001b[39m, \u001b[32m1\u001b[39m),\n",
       "  \u001b[33mList\u001b[39m(\u001b[32m5\u001b[39m, \u001b[32m1\u001b[39m),\n",
       "  \u001b[33mList\u001b[39m(\u001b[32m2\u001b[39m, \u001b[32m3\u001b[39m, \u001b[32m1\u001b[39m),\n",
       "  \u001b[33mList\u001b[39m(\u001b[32m7\u001b[39m, \u001b[32m1\u001b[39m),\n",
       "  \u001b[33mList\u001b[39m(\u001b[32m2\u001b[39m, \u001b[32m2\u001b[39m, \u001b[32m2\u001b[39m, \u001b[32m1\u001b[39m),\n",
       "  \u001b[33mList\u001b[39m(\u001b[32m3\u001b[39m, \u001b[32m3\u001b[39m, \u001b[32m1\u001b[39m),\n",
       "  \u001b[33mList\u001b[39m(\u001b[32m2\u001b[39m, \u001b[32m5\u001b[39m, \u001b[32m1\u001b[39m),\n",
       "  \u001b[33mList\u001b[39m(\u001b[32m11\u001b[39m, \u001b[32m1\u001b[39m),\n",
       "  \u001b[33mList\u001b[39m(\u001b[32m2\u001b[39m, \u001b[32m2\u001b[39m, \u001b[32m3\u001b[39m, \u001b[32m1\u001b[39m),\n",
       "  \u001b[33mList\u001b[39m(\u001b[32m13\u001b[39m, \u001b[32m1\u001b[39m),\n",
       "  \u001b[33mList\u001b[39m(\u001b[32m2\u001b[39m, \u001b[32m7\u001b[39m, \u001b[32m1\u001b[39m),\n",
       "  \u001b[33mList\u001b[39m(\u001b[32m3\u001b[39m, \u001b[32m5\u001b[39m, \u001b[32m1\u001b[39m),\n",
       "  \u001b[33mList\u001b[39m(\u001b[32m2\u001b[39m, \u001b[32m2\u001b[39m, \u001b[32m2\u001b[39m, \u001b[32m2\u001b[39m, \u001b[32m1\u001b[39m),\n",
       "  \u001b[33mList\u001b[39m(\u001b[32m17\u001b[39m, \u001b[32m1\u001b[39m),\n",
       "  \u001b[33mList\u001b[39m(\u001b[32m2\u001b[39m, \u001b[32m3\u001b[39m, \u001b[32m3\u001b[39m, \u001b[32m1\u001b[39m),\n",
       "  \u001b[33mList\u001b[39m(\u001b[32m19\u001b[39m, \u001b[32m1\u001b[39m),\n",
       "  \u001b[33mList\u001b[39m(\u001b[32m2\u001b[39m, \u001b[32m2\u001b[39m, \u001b[32m5\u001b[39m, \u001b[32m1\u001b[39m)\n",
       ")"
      ]
     },
     "execution_count": 46,
     "metadata": {},
     "output_type": "execute_result"
    }
   ],
   "source": [
    "def factorPrimes(acc: List[Int], curr: Int, primes: List[Int]):List[Int] = {\n",
    "    if (primes.isEmpty)\n",
    "        acc:+1\n",
    "    else if (curr%primes.head == 0)\n",
    "        factorPrimes(acc:+primes.head, curr/primes.head, primes)\n",
    "    else if (curr%primes.head != 0 && !primes.tail.isEmpty)\n",
    "        factorPrimes(acc, curr, primes.tail)\n",
    "    else acc:+1\n",
    "}\n",
    "val primes = List(2,3,5,7,11,13,17,19)\n",
    "val xs = for (i <- 1 to 20) yield factorPrimes(List(),i,primes)"
   ]
  },
  {
   "cell_type": "code",
   "execution_count": 47,
   "metadata": {},
   "outputs": [
    {
     "data": {
      "text/plain": [
       "\u001b[36mcountFactors\u001b[39m: \u001b[32mcollection\u001b[39m.\u001b[32mimmutable\u001b[39m.\u001b[32mIndexedSeq\u001b[39m[\u001b[32mMap\u001b[39m[\u001b[32mInt\u001b[39m, \u001b[32mInt\u001b[39m]] = \u001b[33mVector\u001b[39m(\n",
       "  \u001b[33mMap\u001b[39m(\u001b[32m1\u001b[39m -> \u001b[32m1\u001b[39m),\n",
       "  \u001b[33mMap\u001b[39m(\u001b[32m2\u001b[39m -> \u001b[32m1\u001b[39m, \u001b[32m1\u001b[39m -> \u001b[32m1\u001b[39m),\n",
       "  \u001b[33mMap\u001b[39m(\u001b[32m3\u001b[39m -> \u001b[32m1\u001b[39m, \u001b[32m1\u001b[39m -> \u001b[32m1\u001b[39m),\n",
       "  \u001b[33mMap\u001b[39m(\u001b[32m2\u001b[39m -> \u001b[32m2\u001b[39m, \u001b[32m1\u001b[39m -> \u001b[32m1\u001b[39m),\n",
       "  \u001b[33mMap\u001b[39m(\u001b[32m5\u001b[39m -> \u001b[32m1\u001b[39m, \u001b[32m1\u001b[39m -> \u001b[32m1\u001b[39m),\n",
       "  \u001b[33mMap\u001b[39m(\u001b[32m2\u001b[39m -> \u001b[32m1\u001b[39m, \u001b[32m3\u001b[39m -> \u001b[32m1\u001b[39m, \u001b[32m1\u001b[39m -> \u001b[32m1\u001b[39m),\n",
       "  \u001b[33mMap\u001b[39m(\u001b[32m7\u001b[39m -> \u001b[32m1\u001b[39m, \u001b[32m1\u001b[39m -> \u001b[32m1\u001b[39m),\n",
       "  \u001b[33mMap\u001b[39m(\u001b[32m2\u001b[39m -> \u001b[32m3\u001b[39m, \u001b[32m1\u001b[39m -> \u001b[32m1\u001b[39m),\n",
       "  \u001b[33mMap\u001b[39m(\u001b[32m3\u001b[39m -> \u001b[32m2\u001b[39m, \u001b[32m1\u001b[39m -> \u001b[32m1\u001b[39m),\n",
       "  \u001b[33mMap\u001b[39m(\u001b[32m2\u001b[39m -> \u001b[32m1\u001b[39m, \u001b[32m5\u001b[39m -> \u001b[32m1\u001b[39m, \u001b[32m1\u001b[39m -> \u001b[32m1\u001b[39m),\n",
       "  \u001b[33mMap\u001b[39m(\u001b[32m11\u001b[39m -> \u001b[32m1\u001b[39m, \u001b[32m1\u001b[39m -> \u001b[32m1\u001b[39m),\n",
       "  \u001b[33mMap\u001b[39m(\u001b[32m2\u001b[39m -> \u001b[32m2\u001b[39m, \u001b[32m3\u001b[39m -> \u001b[32m1\u001b[39m, \u001b[32m1\u001b[39m -> \u001b[32m1\u001b[39m),\n",
       "  \u001b[33mMap\u001b[39m(\u001b[32m13\u001b[39m -> \u001b[32m1\u001b[39m, \u001b[32m1\u001b[39m -> \u001b[32m1\u001b[39m),\n",
       "  \u001b[33mMap\u001b[39m(\u001b[32m2\u001b[39m -> \u001b[32m1\u001b[39m, \u001b[32m7\u001b[39m -> \u001b[32m1\u001b[39m, \u001b[32m1\u001b[39m -> \u001b[32m1\u001b[39m),\n",
       "  \u001b[33mMap\u001b[39m(\u001b[32m3\u001b[39m -> \u001b[32m1\u001b[39m, \u001b[32m5\u001b[39m -> \u001b[32m1\u001b[39m, \u001b[32m1\u001b[39m -> \u001b[32m1\u001b[39m),\n",
       "  \u001b[33mMap\u001b[39m(\u001b[32m2\u001b[39m -> \u001b[32m4\u001b[39m, \u001b[32m1\u001b[39m -> \u001b[32m1\u001b[39m),\n",
       "  \u001b[33mMap\u001b[39m(\u001b[32m17\u001b[39m -> \u001b[32m1\u001b[39m, \u001b[32m1\u001b[39m -> \u001b[32m1\u001b[39m),\n",
       "  \u001b[33mMap\u001b[39m(\u001b[32m2\u001b[39m -> \u001b[32m1\u001b[39m, \u001b[32m3\u001b[39m -> \u001b[32m2\u001b[39m, \u001b[32m1\u001b[39m -> \u001b[32m1\u001b[39m),\n",
       "  \u001b[33mMap\u001b[39m(\u001b[32m19\u001b[39m -> \u001b[32m1\u001b[39m, \u001b[32m1\u001b[39m -> \u001b[32m1\u001b[39m),\n",
       "  \u001b[33mMap\u001b[39m(\u001b[32m2\u001b[39m -> \u001b[32m2\u001b[39m, \u001b[32m5\u001b[39m -> \u001b[32m1\u001b[39m, \u001b[32m1\u001b[39m -> \u001b[32m1\u001b[39m)\n",
       ")"
      ]
     },
     "execution_count": 47,
     "metadata": {},
     "output_type": "execute_result"
    }
   ],
   "source": [
    "val countFactors = for ( x <- xs) yield x.groupBy(identity).mapValues(_.size)\n"
   ]
  },
  {
   "cell_type": "code",
   "execution_count": 48,
   "metadata": {},
   "outputs": [
    {
     "data": {
      "text/plain": [
       "\u001b[36mfinCount\u001b[39m: \u001b[32mcollection\u001b[39m.\u001b[32mimmutable\u001b[39m.\u001b[32mIndexedSeq\u001b[39m[(\u001b[32mInt\u001b[39m, \u001b[32mInt\u001b[39m)] = \u001b[33mVector\u001b[39m(\n",
       "  (\u001b[32m1\u001b[39m, \u001b[32m1\u001b[39m),\n",
       "  (\u001b[32m2\u001b[39m, \u001b[32m1\u001b[39m),\n",
       "  (\u001b[32m1\u001b[39m, \u001b[32m1\u001b[39m),\n",
       "  (\u001b[32m3\u001b[39m, \u001b[32m1\u001b[39m),\n",
       "  (\u001b[32m1\u001b[39m, \u001b[32m1\u001b[39m),\n",
       "  (\u001b[32m2\u001b[39m, \u001b[32m2\u001b[39m),\n",
       "  (\u001b[32m1\u001b[39m, \u001b[32m1\u001b[39m),\n",
       "  (\u001b[32m5\u001b[39m, \u001b[32m1\u001b[39m),\n",
       "  (\u001b[32m1\u001b[39m, \u001b[32m1\u001b[39m),\n",
       "  (\u001b[32m2\u001b[39m, \u001b[32m1\u001b[39m),\n",
       "  (\u001b[32m3\u001b[39m, \u001b[32m1\u001b[39m),\n",
       "  (\u001b[32m1\u001b[39m, \u001b[32m1\u001b[39m),\n",
       "  (\u001b[32m7\u001b[39m, \u001b[32m1\u001b[39m),\n",
       "  (\u001b[32m1\u001b[39m, \u001b[32m1\u001b[39m),\n",
       "  (\u001b[32m2\u001b[39m, \u001b[32m3\u001b[39m),\n",
       "  (\u001b[32m1\u001b[39m, \u001b[32m1\u001b[39m),\n",
       "  (\u001b[32m3\u001b[39m, \u001b[32m2\u001b[39m),\n",
       "  (\u001b[32m1\u001b[39m, \u001b[32m1\u001b[39m),\n",
       "  (\u001b[32m2\u001b[39m, \u001b[32m1\u001b[39m),\n",
       "  (\u001b[32m5\u001b[39m, \u001b[32m1\u001b[39m),\n",
       "  (\u001b[32m1\u001b[39m, \u001b[32m1\u001b[39m),\n",
       "  (\u001b[32m11\u001b[39m, \u001b[32m1\u001b[39m),\n",
       "  (\u001b[32m1\u001b[39m, \u001b[32m1\u001b[39m),\n",
       "  (\u001b[32m2\u001b[39m, \u001b[32m2\u001b[39m),\n",
       "  (\u001b[32m3\u001b[39m, \u001b[32m1\u001b[39m),\n",
       "  (\u001b[32m1\u001b[39m, \u001b[32m1\u001b[39m),\n",
       "  (\u001b[32m13\u001b[39m, \u001b[32m1\u001b[39m),\n",
       "  (\u001b[32m1\u001b[39m, \u001b[32m1\u001b[39m),\n",
       "  (\u001b[32m2\u001b[39m, \u001b[32m1\u001b[39m),\n",
       "  (\u001b[32m7\u001b[39m, \u001b[32m1\u001b[39m),\n",
       "  (\u001b[32m1\u001b[39m, \u001b[32m1\u001b[39m),\n",
       "  (\u001b[32m3\u001b[39m, \u001b[32m1\u001b[39m),\n",
       "  (\u001b[32m5\u001b[39m, \u001b[32m1\u001b[39m),\n",
       "  (\u001b[32m1\u001b[39m, \u001b[32m1\u001b[39m),\n",
       "  (\u001b[32m2\u001b[39m, \u001b[32m4\u001b[39m),\n",
       "  (\u001b[32m1\u001b[39m, \u001b[32m1\u001b[39m),\n",
       "  (\u001b[32m17\u001b[39m, \u001b[32m1\u001b[39m),\n",
       "  (\u001b[32m1\u001b[39m, \u001b[32m1\u001b[39m),\n",
       "..."
      ]
     },
     "execution_count": 48,
     "metadata": {},
     "output_type": "execute_result"
    }
   ],
   "source": [
    "val finCount =countFactors.flatten"
   ]
  },
  {
   "cell_type": "code",
   "execution_count": 49,
   "metadata": {},
   "outputs": [
    {
     "data": {
      "text/plain": [
       "\u001b[36monly\u001b[39m: \u001b[32mList\u001b[39m[(\u001b[32mInt\u001b[39m, \u001b[32mInt\u001b[39m)] = \u001b[33mList\u001b[39m(\n",
       "  (\u001b[32m2\u001b[39m, \u001b[32m4\u001b[39m),\n",
       "  (\u001b[32m3\u001b[39m, \u001b[32m2\u001b[39m),\n",
       "  (\u001b[32m5\u001b[39m, \u001b[32m1\u001b[39m),\n",
       "  (\u001b[32m7\u001b[39m, \u001b[32m1\u001b[39m),\n",
       "  (\u001b[32m11\u001b[39m, \u001b[32m1\u001b[39m),\n",
       "  (\u001b[32m13\u001b[39m, \u001b[32m1\u001b[39m),\n",
       "  (\u001b[32m17\u001b[39m, \u001b[32m1\u001b[39m),\n",
       "  (\u001b[32m19\u001b[39m, \u001b[32m1\u001b[39m)\n",
       ")"
      ]
     },
     "execution_count": 49,
     "metadata": {},
     "output_type": "execute_result"
    }
   ],
   "source": [
    "val only = for (prime <- primes) yield finCount.filter(x => x._1==prime).maxBy(_._2)"
   ]
  },
  {
   "cell_type": "code",
   "execution_count": 50,
   "metadata": {},
   "outputs": [
    {
     "data": {
      "text/plain": [
       "\u001b[36msummation\u001b[39m: \u001b[32mList\u001b[39m[\u001b[32mLong\u001b[39m] = \u001b[33mList\u001b[39m(\u001b[32m16L\u001b[39m, \u001b[32m9L\u001b[39m, \u001b[32m5L\u001b[39m, \u001b[32m7L\u001b[39m, \u001b[32m11L\u001b[39m, \u001b[32m13L\u001b[39m, \u001b[32m17L\u001b[39m, \u001b[32m19L\u001b[39m)"
      ]
     },
     "execution_count": 50,
     "metadata": {},
     "output_type": "execute_result"
    }
   ],
   "source": [
    "val summation = for (on <- only) yield scala.math.pow(on._1,on._2).round"
   ]
  },
  {
   "cell_type": "code",
   "execution_count": 51,
   "metadata": {},
   "outputs": [
    {
     "data": {
      "text/plain": [
       "\u001b[36mres50\u001b[39m: \u001b[32mLong\u001b[39m = \u001b[32m232792560L\u001b[39m"
      ]
     },
     "execution_count": 51,
     "metadata": {},
     "output_type": "execute_result"
    }
   ],
   "source": [
    "summation.reduce((x,y) => x*y)\n"
   ]
  },
  {
   "cell_type": "code",
   "execution_count": null,
   "metadata": {},
   "outputs": [],
   "source": []
  }
 ],
 "metadata": {
  "kernelspec": {
   "display_name": "Scala",
   "language": "scala",
   "name": "scala"
  },
  "language_info": {
   "codemirror_mode": "text/x-scala",
   "file_extension": ".sc",
   "mimetype": "text/x-scala",
   "name": "scala",
   "nbconvert_exporter": "script",
   "version": "2.12.17"
  },
  "orig_nbformat": 4,
  "vscode": {
   "interpreter": {
    "hash": "3ad933181bd8a04b432d3370b9dc3b0662ad032c4dfaa4e4f1596c548f763858"
   }
  }
 },
 "nbformat": 4,
 "nbformat_minor": 2
}
