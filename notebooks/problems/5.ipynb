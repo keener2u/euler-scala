{
 "cells": [
  {
   "cell_type": "code",
   "execution_count": null,
   "metadata": {},
   "outputs": [],
   "source": [
    "print(\"test\")"
   ]
  },
  {
   "attachments": {},
   "cell_type": "markdown",
   "metadata": {},
   "source": [
    "2520 is the smallest number that can be divided by each of the numbers from 1 to 10 without any remainder.\n",
    "\n",
    "What is the smallest positive number that is evenly divisible by all of the numbers from 1 to 20?\n",
    "\n",
    "Strategy, break out the primes of each number from 1/20 count the primes and take the ones with the highest coefficients"
   ]
  },
  {
   "cell_type": "code",
   "execution_count": 7,
   "metadata": {},
   "outputs": [
    {
     "name": "stderr",
     "output_type": "stream",
     "text": [
      "(console):13:50 expected (Semis | &\"}\" | end-of-input)\n",
      "for (i <- 1 to 20) factorPrimes(List(),_,primes) yield i\n",
      "                                                 ^"
     ]
    },
    {
     "ename": "",
     "evalue": "",
     "output_type": "error",
     "traceback": [
      "(console):13:50 expected (Semis | &\"}\" | end-of-input)\nfor (i <- 1 to 20) factorPrimes(List(),_,primes) yield i\n                                                 ^"
     ]
    }
   ],
   "source": [
    "def factorPrimes(acc: List[Int], curr: Int, primes: List[Int]):List[Int] = {\n",
    "    if (primes.isEmpty)\n",
    "        acc:+1\n",
    "    else if (curr%primes.head == 0)\n",
    "        factorPrimes(acc:+primes.head, curr/primes.head, primes)\n",
    "    else if (curr%primes.head != 0 && !primes.tail.isEmpty)\n",
    "        factorPrimes(acc, curr, primes.tail)\n",
    "    else acc:+1\n",
    "}\n",
    "val primes = List(2,3,5,7,11,13,17,19)\n",
    "\n",
    "\n",
    "for (i <- 1 to 20) factorPrimes(List(),i,primes) yield _\n",
    "print(i)\n"
   ]
  },
  {
   "cell_type": "code",
   "execution_count": null,
   "metadata": {},
   "outputs": [],
   "source": []
  },
  {
   "cell_type": "code",
   "execution_count": null,
   "metadata": {},
   "outputs": [],
   "source": []
  }
 ],
 "metadata": {
  "kernelspec": {
   "display_name": "Scala",
   "language": "scala",
   "name": "scala"
  },
  "language_info": {
   "codemirror_mode": "text/x-scala",
   "file_extension": ".sc",
   "mimetype": "text/x-scala",
   "name": "scala",
   "nbconvert_exporter": "script",
   "version": "2.12.17"
  },
  "orig_nbformat": 4,
  "vscode": {
   "interpreter": {
    "hash": "3ad933181bd8a04b432d3370b9dc3b0662ad032c4dfaa4e4f1596c548f763858"
   }
  }
 },
 "nbformat": 4,
 "nbformat_minor": 2
}
