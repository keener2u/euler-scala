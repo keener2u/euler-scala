{
 "cells": [
  {
   "cell_type": "code",
   "execution_count": 7,
   "id": "0d1caa36-7fdf-44d6-bcf1-5cbc0df6680b",
   "metadata": {},
   "outputs": [
    {
     "data": {
      "text/plain": [
       "defined \u001b[32mfunction\u001b[39m \u001b[36mnextFib\u001b[39m"
      ]
     },
     "execution_count": 7,
     "metadata": {},
     "output_type": "execute_result"
    }
   ],
   "source": [
    "def nextFib(last1 :Int, last2 :Int, list :List[Int]):List[Int] = {\n",
    "    val next = last1+last2\n",
    "    if (next > 4000000){\n",
    "        return list\n",
    "    }\n",
    "    else if(next % 2 != 0){\n",
    "        return nextFib(next, last1, list)\n",
    "    }\n",
    "    else{\n",
    "        val nextList:List[Int] = next :: list\n",
    "        return nextFib(next, last1, nextList)\n",
    "    }\n",
    "}"
   ]
  },
  {
   "cell_type": "code",
   "execution_count": 9,
   "id": "6d2f345e-853b-4849-bafd-e31dadeeddfe",
   "metadata": {},
   "outputs": [
    {
     "data": {
      "text/plain": [
       "\u001b[36mres8\u001b[39m: \u001b[32mInt\u001b[39m = \u001b[32m4613732\u001b[39m"
      ]
     },
     "execution_count": 9,
     "metadata": {},
     "output_type": "execute_result"
    }
   ],
   "source": [
    "nextFib(1,1,List()).reduce((a,b) => a+b)"
   ]
  },
  {
   "cell_type": "code",
   "execution_count": null,
   "id": "0ce6d548",
   "metadata": {},
   "outputs": [],
   "source": []
  }
 ],
 "metadata": {
  "kernelspec": {
   "display_name": "Scala",
   "language": "scala",
   "name": "scala"
  },
  "language_info": {
   "codemirror_mode": "text/x-scala",
   "file_extension": ".sc",
   "mimetype": "text/x-scala",
   "name": "scala",
   "nbconvert_exporter": "script",
   "version": "2.12.17"
  }
 },
 "nbformat": 4,
 "nbformat_minor": 5
}
